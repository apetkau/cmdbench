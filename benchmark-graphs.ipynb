{
 "cells": [
  {
   "cell_type": "code",
   "execution_count": 1,
   "metadata": {
    "collapsed": true
   },
   "outputs": [],
   "source": [
    "import numpy as np\n",
    "import matplotlib.pyplot as plt\n",
    "import json\n",
    "import os"
   ]
  },
  {
   "cell_type": "code",
   "execution_count": 2,
   "metadata": {},
   "outputs": [
    {
     "name": "stdout",
     "output_type": "stream",
     "text": [
      "Python 3.6.10 :: Anaconda, Inc.\r\n"
     ]
    }
   ],
   "source": [
    "!python --version"
   ]
  },
  {
   "cell_type": "code",
   "execution_count": 3,
   "metadata": {},
   "outputs": [],
   "source": [
    "import cmdbench"
   ]
  },
  {
   "cell_type": "code",
   "execution_count": 4,
   "metadata": {
    "collapsed": true
   },
   "outputs": [],
   "source": [
    "import psutil"
   ]
  },
  {
   "cell_type": "code",
   "execution_count": 5,
   "metadata": {},
   "outputs": [
    {
     "data": {
      "text/plain": [
       "'5.7.0'"
      ]
     },
     "execution_count": 5,
     "metadata": {},
     "output_type": "execute_result"
    }
   ],
   "source": [
    "psutil.__version__"
   ]
  },
  {
   "cell_type": "code",
   "execution_count": 6,
   "metadata": {},
   "outputs": [],
   "source": [
    "results = cmdbench.benchmark_command(\"node --expose-gc test.js\")"
   ]
  },
  {
   "cell_type": "code",
   "execution_count": 7,
   "metadata": {
    "scrolled": true
   },
   "outputs": [
    {
     "data": {
      "text/plain": [
       "{'cpu': {'total_time': 22.71,\n",
       "  'percentages': array([  0. ,   0. , 159.4, ...,   0. ,   0. ,   0. ]),\n",
       "  'percentages_stats': Stats(mean=25.39531772575251, std=60.77207441122552)},\n",
       " 'memory': {'max': 4425936896,\n",
       "  'values': array([ 25358336,  28008448,  29085696, ..., 157028352,  78483456,\n",
       "          58281984]),\n",
       "  'values_stats': Stats(mean=761338496.4280937, std=1005959701.7546811)},\n",
       " 'disk': {'io_counters': pio(read_count=261, write_count=128, read_bytes=0, write_bytes=9437184, read_chars=9523720, write_chars=9438298)},\n",
       " 'process': {'stdout_data': 'Running master process\\n\\nRunning child process #3\\n\\nRunning child process #4\\n\\nRunning child process #5\\n\\nRunning child process #2\\n\\nRunning child process #1\\n\\nRunning child process #8\\n\\nRunning child process #6\\n\\nRunning child process #7\\n',\n",
       "  'stderr_data': '',\n",
       "  'execution_time': 8518},\n",
       " 'gnu_time_results': {'Command being timed': '\"node --expose-gc test.js\"',\n",
       "  'User time (seconds)': '21.22',\n",
       "  'System time (seconds)': '1.50',\n",
       "  'Percent of CPU this job got': '266%',\n",
       "  'Elapsed (wall clock) time (h:mm:ss or m:ss): 0': '08.52',\n",
       "  'Average shared text size (kbytes)': '0',\n",
       "  'Average unshared data size (kbytes)': '0',\n",
       "  'Average stack size (kbytes)': '0',\n",
       "  'Average total size (kbytes)': '0',\n",
       "  'Maximum resident set size (kbytes)': '614248',\n",
       "  'Average resident set size (kbytes)': '0',\n",
       "  'Major (requiring I/O) page faults': '0',\n",
       "  'Minor (reclaiming a frame) page faults': '1332897',\n",
       "  'Voluntary context switches': '15174',\n",
       "  'Involuntary context switches': '1703',\n",
       "  'Swaps': '0',\n",
       "  'File system inputs': '0',\n",
       "  'File system outputs': '18432',\n",
       "  'Socket messages sent': '0',\n",
       "  'Socket messages received': '0',\n",
       "  'Signals delivered': '0',\n",
       "  'Page size (bytes)': '4096',\n",
       "  'Exit status': '0'}}"
      ]
     },
     "execution_count": 7,
     "metadata": {},
     "output_type": "execute_result"
    }
   ],
   "source": [
    "results"
   ]
  },
  {
   "cell_type": "code",
   "execution_count": 8,
   "metadata": {},
   "outputs": [
    {
     "data": {
      "text/plain": [
       "'614248'"
      ]
     },
     "execution_count": 8,
     "metadata": {},
     "output_type": "execute_result"
    }
   ],
   "source": [
    "results[\"gnu_time_results\"][\"Maximum resident set size (kbytes)\"]"
   ]
  },
  {
   "cell_type": "code",
   "execution_count": 9,
   "metadata": {
    "scrolled": true
   },
   "outputs": [
    {
     "name": "stdout",
     "output_type": "stream",
     "text": [
      "STDOUT: \n",
      "\n",
      "Running master process\n",
      "\n",
      "Running child process #3\n",
      "\n",
      "Running child process #4\n",
      "\n",
      "Running child process #5\n",
      "\n",
      "Running child process #2\n",
      "\n",
      "Running child process #1\n",
      "\n",
      "Running child process #8\n",
      "\n",
      "Running child process #6\n",
      "\n",
      "Running child process #7\n",
      "\n",
      "STDERR: \n",
      "\n",
      "\n"
     ]
    }
   ],
   "source": [
    "process_stdout_data = results[\"process\"][\"stdout_data\"]\n",
    "process_stderr_data = results[\"process\"][\"stderr_data\"]\n",
    "print(\"STDOUT: \\n\\n%s\" % process_stdout_data)\n",
    "print(\"STDERR: \\n\\n%s\" % process_stderr_data)"
   ]
  },
  {
   "cell_type": "code",
   "execution_count": 10,
   "metadata": {
    "collapsed": true
   },
   "outputs": [],
   "source": [
    "results_cpu_percentages = results[\"cpu\"][\"percentages\"]\n",
    "results_memory_values = results[\"memory\"][\"values\"]"
   ]
  },
  {
   "cell_type": "code",
   "execution_count": 11,
   "metadata": {},
   "outputs": [
    {
     "name": "stdout",
     "output_type": "stream",
     "text": [
      "Execution time (ms): 8518\n",
      "Cpu samples per second: 140.4085466071848\n",
      "Memory samples per second: 140.4085466071848\n"
     ]
    }
   ],
   "source": [
    "execution_time_ms = results[\"process\"][\"execution_time\"]\n",
    "# Should be equal\n",
    "cpu_samples_per_ms = len(results_cpu_percentages) / execution_time_ms\n",
    "memory_samples_per_ms = len(results_memory_values) / execution_time_ms\n",
    "\n",
    "print(\"Execution time (ms): %s\" % execution_time_ms)\n",
    "print(\"Cpu samples per second: %s\" % (cpu_samples_per_ms*1000))\n",
    "print(\"Memory samples per second: %s\" % (memory_samples_per_ms*1000))"
   ]
  },
  {
   "cell_type": "code",
   "execution_count": 12,
   "metadata": {},
   "outputs": [
    {
     "name": "stdout",
     "output_type": "stream",
     "text": [
      "pio(read_count=261, write_count=128, read_bytes=0, write_bytes=9437184, read_chars=9523720, write_chars=9438298)\n",
      "Total disk I/O (bytes): 18962018\n",
      "Total disk read (bytes): 9523720\n",
      "Total disk write (bytes): 9438298\n"
     ]
    }
   ],
   "source": [
    "## DISK USAGE\n",
    "# https://psutil.readthedocs.io/en/latest/#psutil.Process.io_counters\n",
    "disk_io_counters_read = results[\"disk\"][\"io_counters\"].read_chars\n",
    "disk_io_counters_write = results[\"disk\"][\"io_counters\"].write_chars\n",
    "disk_io_counters_total = disk_io_counters_read + disk_io_counters_write\n",
    "\n",
    "print(results[\"disk\"][\"io_counters\"])\n",
    "print(\"Total disk I/O (bytes): %s\" %  disk_io_counters_total)\n",
    "print(\"Total disk read (bytes): %s\" %  disk_io_counters_read)\n",
    "print(\"Total disk write (bytes): %s\" %  disk_io_counters_write)"
   ]
  },
  {
   "cell_type": "code",
   "execution_count": 13,
   "metadata": {
    "scrolled": true
   },
   "outputs": [
    {
     "data": {
      "image/png": "[encoded data removed]",
      "text/plain": [
       "<Figure size 1080x216 with 2 Axes>"
      ]
     },
     "metadata": {
      "needs_background": "light"
     },
     "output_type": "display_data"
    },
    {
     "name": "stdout",
     "output_type": "stream",
     "text": [
      "Total CPU time (seconds): 22.71\n",
      "Max used memory (bytes): 4425936896\n"
     ]
    }
   ],
   "source": [
    "## CPU + MEMORY\n",
    "\n",
    "plt.rcParams[\"figure.figsize\"] = (15,3)\n",
    "\n",
    "# Data for plotting\n",
    "x = np.arange(0, len(results_memory_values), 1)\n",
    "memory_y = results_memory_values\n",
    "cpu_y = results_cpu_percentages\n",
    "\n",
    "\n",
    "color = 'tab:blue'\n",
    "fig, ax_memory = plt.subplots()\n",
    "ax_memory.grid()\n",
    "ax_memory.set_xlabel('Sample')\n",
    "ax_memory.set_ylabel('Memory (Bytes)', color=color)\n",
    "ax_memory.plot(x, memory_y, color=color, alpha=0.8)\n",
    "ax_memory.tick_params(axis='y', labelcolor=color)\n",
    "plt.fill_between(x, memory_y, alpha=0.2, color=color)\n",
    "\n",
    "color = 'tab:green'\n",
    "ax_cpu = ax_memory.twinx()\n",
    "ax_cpu.set_ylabel('CPU (%)', color=color)\n",
    "ax_cpu.plot(x, cpu_y, color=color, alpha=0.8)\n",
    "ax_cpu.tick_params(axis='y', labelcolor=color)\n",
    "plt.fill_between(x, cpu_y, alpha=0.2, color=color)\n",
    "\n",
    "\n",
    "plt.tight_layout()\n",
    "\n",
    "# Delete figure file if it already exists and save the new one\n",
    "figure_image_save_path = \"resources/benchmark.png\"\n",
    "if os.path.exists(figure_image_save_path):\n",
    "    os.remove(figure_image_save_path)\n",
    "fig.savefig(figure_image_save_path)\n",
    "\n",
    "plt.show()\n",
    "\n",
    "print(\"Total CPU time (seconds): %s\" % results[\"cpu\"][\"total_time\"])\n",
    "print(\"Max used memory (bytes): %s\" % results[\"memory\"][\"max\"])"
   ]
  },
  {
   "cell_type": "code",
   "execution_count": null,
   "metadata": {
    "collapsed": true
   },
   "outputs": [],
   "source": []
  }
 ],
 "metadata": {
  "kernelspec": {
   "display_name": "Python [conda env:tf-gpu]",
   "language": "python",
   "name": "conda-env-tf-gpu-py"
  },
  "language_info": {
   "codemirror_mode": {
    "name": "ipython",
    "version": 3
   },
   "file_extension": ".py",
   "mimetype": "text/x-python",
   "name": "python",
   "nbconvert_exporter": "python",
   "pygments_lexer": "ipython3",
   "version": "3.6.10"
  }
 },
 "nbformat": 4,
 "nbformat_minor": 2
}
