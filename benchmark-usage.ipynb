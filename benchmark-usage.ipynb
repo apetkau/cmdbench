{
 "cells": [
  {
   "cell_type": "code",
   "execution_count": 1,
   "metadata": {},
   "outputs": [],
   "source": [
    "import json\n",
    "import os\n",
    "import importlib\n",
    "from IPython.display import display\n",
    "import numpy as np\n",
    "np.set_printoptions(threshold=20)"
   ]
  },
  {
   "cell_type": "code",
   "execution_count": 2,
   "metadata": {},
   "outputs": [],
   "source": [
    "import cmdbench"
   ]
  },
  {
   "cell_type": "code",
   "execution_count": 3,
   "metadata": {
    "scrolled": true
   },
   "outputs": [],
   "source": [
    "benchmark_results = cmdbench.benchmark_command(\"node --expose-gc test.js\", iterations_num = 10, raw_data = False)"
   ]
  },
  {
   "cell_type": "code",
   "execution_count": 4,
   "metadata": {
    "scrolled": false
   },
   "outputs": [
    {
     "data": {
      "text/plain": [
       "{\n",
       "  'cpu': {\n",
       "    'system_time': 1.7799999999999998,\n",
       "    'total_time': 25.69,\n",
       "    'user_time': 23.91,\n",
       "  },\n",
       "  'disk': {\n",
       "    'read_bytes': 0,\n",
       "    'read_chars': 1407040,\n",
       "    'total_bytes': 1310720,\n",
       "    'total_chars': 2719047,\n",
       "    'write_bytes': 1310720,\n",
       "    'write_chars': 1312007,\n",
       "  },\n",
       "  'memory': {\n",
       "    'max': 4693893120,\n",
       "    'max_perprocess': 629190656,\n",
       "  },\n",
       "  'process': {\n",
       "    'execution_time': 6.346,\n",
       "    'stderr_data': '',\n",
       "    'stdout_data': 'Running master process\\n\\nRunning child process\n",
       "                    #1\\n\\nRunning child process #3\\n\\nRunning child process\n",
       "                    ...(4 hidden lines)',\n",
       "  },\n",
       "  'time_series': {\n",
       "    'cpu_percentages': array([  0. , 163.3,   0. , ...,   0. ,   0. ,   0. ])\n",
       "    'memory_bytes': array([ 26144768,  27799552,  28950528, ..., 158146560,  79122432,\n",
       "        54927360])\n",
       "    'sample_milliseconds': array([   1,    7,   13, ..., 6327, 6332, 6338])\n",
       "  },\n",
       "}"
      ]
     },
     "execution_count": 4,
     "metadata": {},
     "output_type": "execute_result"
    }
   ],
   "source": [
    "# Get the benchmark results for the first iteration\n",
    "benchmark_results.get_single_iteration()"
   ]
  },
  {
   "cell_type": "code",
   "execution_count": 5,
   "metadata": {
    "scrolled": false
   },
   "outputs": [
    {
     "data": {
      "text/plain": [
       "{\n",
       "  'cpu': {\n",
       "    'system_time': 1.807,\n",
       "    'total_time': 25.378,\n",
       "    'user_time': 23.570999999999998,\n",
       "  },\n",
       "  'disk': {\n",
       "    'read_bytes': 0.0,\n",
       "    'read_chars': 1407035.2,\n",
       "    'total_bytes': 1310720.0,\n",
       "    'total_chars': 2719037.4,\n",
       "    'write_bytes': 1310720.0,\n",
       "    'write_chars': 1312002.2,\n",
       "  },\n",
       "  'memory': {\n",
       "    'max': 4722668339.2,\n",
       "    'max_perprocess': 629117337.6,\n",
       "  },\n",
       "  'process': {\n",
       "    'execution_time': 6.3666,\n",
       "    'stderr_data': None,\n",
       "    'stdout_data': None,\n",
       "  },\n",
       "  'time_series': {\n",
       "    'cpu_percentages': array([ 59.25294118,  50.59230769, 181.61      , ...,   0.        ,\n",
       "         0.        ,   0.        ])\n",
       "    'memory_bytes': array([2.63131859e+07, 2.85097354e+07, 2.98823680e+07, ...,\n",
       "       1.57057024e+08, 1.21020416e+08, 7.86350080e+07])\n",
       "    'sample_milliseconds': array([3.58823529e+00, 1.17692308e+01, 1.83000000e+01, ...,\n",
       "       6.44350000e+03, 6.45200000e+03, 6.45700000e+03])\n",
       "  },\n",
       "}"
      ]
     },
     "execution_count": 5,
     "metadata": {},
     "output_type": "execute_result"
    }
   ],
   "source": [
    "# Get the benchmark results for the average of all kinds of resources, including time series data\n",
    "benchmark_results.get_averages()"
   ]
  },
  {
   "cell_type": "code",
   "execution_count": 6,
   "metadata": {
    "scrolled": false
   },
   "outputs": [
    {
     "data": {
      "text/plain": [
       "{\n",
       "  'cpu': {\n",
       "    'system_time': (mean: 1.807, stdev: 0.05899999999999999, min: 1.7200000000000002, max: 1.9100000000000001)\n",
       "    'total_time': (mean: 25.378, stdev: 0.38062580049176925, min: 24.7, max: 25.93)\n",
       "    'user_time': (mean: 23.570999999999998, stdev: 0.3497270364155451, min: 22.98, max: 24.07)\n",
       "  },\n",
       "  'disk': {\n",
       "    'read_bytes': (mean: 0.0, stdev: 0.0, min: 0, max: 0)\n",
       "    'read_chars': (mean: 1407035.2, stdev: 5.30659966456864, min: 1407024, max: 1407040)\n",
       "    'total_bytes': (mean: 1310720.0, stdev: 0.0, min: 1310720, max: 1310720)\n",
       "    'total_chars': (mean: 2719037.4, stdev: 10.61319932913728, min: 2719015, max: 2719047)\n",
       "    'write_bytes': (mean: 1310720.0, stdev: 0.0, min: 1310720, max: 1310720)\n",
       "    'write_chars': (mean: 1312002.2, stdev: 5.30659966456864, min: 1311991, max: 1312007)\n",
       "  },\n",
       "  'memory': {\n",
       "    'max': (mean: 4722668339.2, stdev: 99035863.37127185, min: 4575125504, max: 4906184704)\n",
       "    'max_perprocess': (mean: 629117337.6, stdev: 78113.41553817756, min: 628989952, max: 629248000)\n",
       "  },\n",
       "  'process': {\n",
       "    'execution_time': (mean: 6.3666, stdev: 0.037347556814335284, min: 6.328, max: 6.466)\n",
       "    'stderr_data': None,\n",
       "    'stdout_data': None,\n",
       "  },\n",
       "  'time_series': {\n",
       "    'cpu_percentages': (mean: 33.1276981450253, stdev: 73.20329314310175, min: 0.0, max: 716.9)\n",
       "    'memory_bytes': (mean: 1046909587.6424958, stdev: 1272766626.5218418, min: 25116672, max: 4906184704)\n",
       "    'sample_milliseconds': (mean: 2979.481871838111, stdev: 1934.0709317344001, min: 1, max: 6457)\n",
       "  },\n",
       "}"
      ]
     },
     "execution_count": 6,
     "metadata": {},
     "output_type": "execute_result"
    }
   ],
   "source": [
    "# Get statistics for all of the resources over iterations\n",
    "benchmark_results.get_statistics()"
   ]
  },
  {
   "cell_type": "code",
   "execution_count": 7,
   "metadata": {},
   "outputs": [],
   "source": [
    "# Get the plot for resources (Ram + CPU)\n",
    "fig = benchmark_results.get_resources_plot(width = 15, height = 3)"
   ]
  },
  {
   "cell_type": "code",
   "execution_count": 8,
   "metadata": {},
   "outputs": [],
   "source": [
    "# Delete figure file if it already exists and save the new one\n",
    "figure_image_save_path = \"resources/benchmark.png\"\n",
    "if os.path.exists(figure_image_save_path):\n",
    "    os.remove(figure_image_save_path)\n",
    "fig.savefig(figure_image_save_path)"
   ]
  },
  {
   "cell_type": "code",
   "execution_count": 9,
   "metadata": {},
   "outputs": [
    {
     "data": {
      "image/png": "[encoded data removed]",
      "text/plain": [
       "<Figure size 1080x216 with 2 Axes>"
      ]
     },
     "metadata": {},
     "output_type": "display_data"
    }
   ],
   "source": [
    "%matplotlib inline\n",
    "# Show the plot in ipython\n",
    "display(fig)"
   ]
  },
  {
   "cell_type": "code",
   "execution_count": 10,
   "metadata": {},
   "outputs": [
    {
     "name": "stdout",
     "output_type": "stream",
     "text": [
      "Average runtime: 6.3666 seconds\n"
     ]
    }
   ],
   "source": [
    "print(\"Average runtime: %s seconds\" % benchmark_results.get_averages().process.execution_time)"
   ]
  },
  {
   "cell_type": "code",
   "execution_count": 11,
   "metadata": {},
   "outputs": [
    {
     "data": {
      "text/plain": [
       "{\n",
       "  'cpu': {\n",
       "    'system_time': [1.7799999999999998, 1.8199999999999998, 1.85, 1.8499999999999999, 1.9100000000000001, 1.75, 1.7999999999999998, 1.8599999999999999, 1.73, 1.7200000000000002],\n",
       "    'total_time': [25.69, 25.479999999999997, 25.2, 25.590000000000003, 25.66, 25.619999999999997, 24.91, 25.93, 25.0, 24.7],\n",
       "    'user_time': [23.91, 23.659999999999997, 23.349999999999998, 23.740000000000002, 23.75, 23.869999999999997, 23.11, 24.07, 23.27, 22.98],\n",
       "  },\n",
       "  'disk': {\n",
       "    'read_bytes': [0, 0, 0, 0, 0, 0, 0, 0, 0, 0],\n",
       "    'read_chars': [1407040, 1407032, 1407040, 1407040, 1407040, 1407032, 1407040, 1407032, 1407032, 1407024],\n",
       "    'total_bytes': [1310720, 1310720, 1310720, 1310720, 1310720, 1310720, 1310720, 1310720, 1310720, 1310720],\n",
       "    'total_chars': [2719047, 2719031, 2719047, 2719047, 2719047, 2719031, 2719047, 2719031, 2719031, 2719015],\n",
       "    'write_bytes': [1310720, 1310720, 1310720, 1310720, 1310720, 1310720, 1310720, 1310720, 1310720, 1310720],\n",
       "    'write_chars': [1312007, 1311999, 1312007, 1312007, 1312007, 1311999, 1312007, 1311999, 1311999, 1311991],\n",
       "  },\n",
       "  'memory': {\n",
       "    'max': [4693893120, 4575125504, 4621012992, 4803108864, 4674121728, 4906184704, 4717764608, 4807061504, 4801826816, 4626583552],\n",
       "    'max_perprocess': [629190656, 629248000, 629153792, 629129216, 629108736, 629059584, 629174272, 629121024, 628989952, 628998144],\n",
       "  },\n",
       "  'process': {\n",
       "    'execution_time': [6.346, 6.352, 6.345, 6.399, 6.328, 6.357, 6.36, 6.466, 6.363, 6.35],\n",
       "    'stderr_data': ['', '', '', '', '', '', '', '', '', ''],\n",
       "    'stdout_data': [\n",
       "      'Running master process\\n\\nRunning child process\n",
       "                      #1\\n\\nRunning child process #3\\n\\nRunning child process\n",
       "                      ...(4 hidden lines)',\n",
       "      'Running master process\\n\\nRunning child process\n",
       "                      #1\\n\\nRunning child process #3\\n\\nRunning child process\n",
       "                      ...(4 hidden lines)',\n",
       "      'Running master process\\n\\nRunning child process\n",
       "                      #1\\n\\nRunning child process #5\\n\\nRunning child process\n",
       "                      ...(4 hidden lines)',\n",
       "      'Running master process\\n\\nRunning child process\n",
       "                      #2\\n\\nRunning child process #8\\n\\nRunning child process\n",
       "                      ...(4 hidden lines)',\n",
       "      'Running master process\\n\\nRunning child process\n",
       "                      #5\\n\\nRunning child process #3\\n\\nRunning child process\n",
       "                      ...(4 hidden lines)',\n",
       "      'Running master process\\n\\nRunning child process\n",
       "                      #1\\n\\nRunning child process #2\\n\\nRunning child process\n",
       "                      ...(4 hidden lines)',\n",
       "      'Running master process\\n\\nRunning child process\n",
       "                      #4\\n\\nRunning child process #3\\n\\nRunning child process\n",
       "                      ...(4 hidden lines)',\n",
       "      'Running master process\\n\\nRunning child process\n",
       "                      #1\\n\\nRunning child process #3\\n\\nRunning child process\n",
       "                      ...(4 hidden lines)',\n",
       "      'Running master process\\n\\nRunning child process\n",
       "                      #3\\n\\nRunning child process #4\\n\\nRunning child process\n",
       "                      ...(4 hidden lines)',\n",
       "      'Running master process\\n\\nRunning child process\n",
       "                      #3\\n\\nRunning child process #4\\n\\nRunning child process\n",
       "                      ...(4 hidden lines)',\n",
       "    ],\n",
       "  },\n",
       "  'time_series': {\n",
       "    'cpu_percentages': [array([  0. , 163.3,   0. , ...,   0. ,   0. ,   0. ]), array([  0. ,   0. , 168.9, ...,   0. ,   0. ,   0. ]), array([  0. , 169.3,   0. , ...,   0. ,   0. ,   0. ]), array([  0. , 171.6,   0. , ...,   0. ,   0. ,   0. ]), array([  0. , 164.5,   0. , ...,   0. ,   0. ,   0. ]), array([  0. , 169.3,   0. , ...,   0. ,   0. ,   0. ]), array([  0. , 163.7,   0. , ...,   0. ,   0. ,   0. ]), array([  0. , 166.4,   0. , ...,   0. ,   0. ,   0. ]), array([  0. , 170.1,   0. , ...,   0. ,   0. ,   0. ]), array([  0. , 157.9,   0. , ...,   0. ,   0. ,   0. ])],\n",
       "    'memory_bytes': [\n",
       "      array([ 26144768,  27799552,  28950528, ..., 158146560,  79122432,\n",
       "        54927360]),\n",
       "      array([ 25128960,  27344896,  28790784, ..., 157814784,  78815232,\n",
       "        78815232]),\n",
       "      array([ 25178112,  27398144,  28758016, ..., 157675520,  78999552,\n",
       "        57184256]),\n",
       "      array([ 25731072,  27459584,  28819456, ..., 158052352,  79011840,\n",
       "        79011840]),\n",
       "      array([ 25280512,  27496448,  28852224, ..., 157880320,  78839808,\n",
       "        42643456]),\n",
       "      array([ 25624576,  27353088,  28712960, ..., 157814784,  78901248,\n",
       "        67010560]),\n",
       "      array([ 25116672,  27336704,  28692480, ..., 157716480,  78864384,\n",
       "        69361664]),\n",
       "      array([ 25587712,  27627520,  28807168, ..., 157057024, 121020416,\n",
       "        78635008]),\n",
       "      array([ 25669632,  27398144,  28758016, ..., 158089216,  79134720,\n",
       "        48648192]),\n",
       "      array([ 25772032,  27500544,  28860416, ..., 157626368,  78839808,\n",
       "        78229504]),\n",
       "    ],\n",
       "    'sample_milliseconds': [array([   1,    7,   13, ..., 6327, 6332, 6338]), array([   1,    7,   13, ..., 6332, 6338, 6343]), array([   1,    7,   12, ..., 6327, 6332, 6338]), array([   1,    7,   13, ..., 6379, 6384, 6390]), array([   1,    8,   13, ..., 6308, 6314, 6319]), array([   2,    7,   13, ..., 6336, 6341, 6348]), array([   1,    7,   13, ..., 6339, 6345, 6351]), array([   2,    8,   13, ..., 6446, 6452, 6457]), array([   1,    7,   12, ..., 6343, 6349, 6355]), array([   1,    8,   14, ..., 6328, 6334, 6340])],\n",
       "  },\n",
       "}"
      ]
     },
     "execution_count": 11,
     "metadata": {},
     "output_type": "execute_result"
    }
   ],
   "source": [
    "# Get lists for accurate values of different kinds of resources over iterations\n",
    "benchmark_results.get_values_per_attribute()"
   ]
  }
 ],
 "metadata": {
  "kernelspec": {
   "display_name": "tf-gpu",
   "language": "python",
   "name": "tf-gpu"
  },
  "language_info": {
   "codemirror_mode": {
    "name": "ipython",
    "version": 3
   },
   "file_extension": ".py",
   "mimetype": "text/x-python",
   "name": "python",
   "nbconvert_exporter": "python",
   "pygments_lexer": "ipython3",
   "version": "3.6.10"
  }
 },
 "nbformat": 4,
 "nbformat_minor": 4
}
