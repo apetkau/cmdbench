{
 "cells": [
  {
   "cell_type": "code",
   "execution_count": 1,
   "metadata": {},
   "outputs": [],
   "source": [
    "import json\n",
    "import os\n",
    "import importlib\n",
    "from IPython.display import display\n",
    "import numpy as np\n",
    "np.set_printoptions(threshold=20)"
   ]
  },
  {
   "cell_type": "code",
   "execution_count": 2,
   "metadata": {},
   "outputs": [],
   "source": [
    "import cmdbench"
   ]
  },
  {
   "cell_type": "code",
   "execution_count": 3,
   "metadata": {
    "scrolled": true
   },
   "outputs": [],
   "source": [
    "benchmark_results = cmdbench.benchmark_command(\"node --expose-gc test.js\", iterations_num = 10, raw_data = False)"
   ]
  },
  {
   "cell_type": "code",
   "execution_count": 4,
   "metadata": {
    "scrolled": false
   },
   "outputs": [
    {
     "data": {
      "text/plain": [
       "{\n",
       "  'cpu': {\n",
       "    'system_time': 2.35,\n",
       "    'total_time': 43.13,\n",
       "    'user_time': 40.78,\n",
       "  },\n",
       "  'disk': {\n",
       "    'read_bytes': 0,\n",
       "    'read_chars': 1425432,\n",
       "    'total_bytes': 1310720,\n",
       "    'total_chars': 2737071,\n",
       "    'write_bytes': 1310720,\n",
       "    'write_chars': 1311639,\n",
       "  },\n",
       "  'memory': {\n",
       "    'max': 7081500672,\n",
       "    'max_perprocess': 788422656,\n",
       "  },\n",
       "  'process': {\n",
       "    'execution_time': 8.646,\n",
       "    'stderr_data': '',\n",
       "    'stdout_data': 'Running master process\\n\\nRunning child process\n",
       "                    #3\\n\\nRunning child process #1\\n\\nRunning child process\n",
       "                    ...(4 hidden lines)',\n",
       "  },\n",
       "  'time_series': {\n",
       "    'cpu_percentages': array([  0. , 138.5, 170.2, ..., 181.9,   0. ,   0. ])\n",
       "    'memory_bytes': array([ 19464192,  19816448,  21049344, ..., 138555392,  69103616,\n",
       "        29683712])\n",
       "    'sample_milliseconds': array([   1,    8,   14, ..., 8626, 8631, 8638])\n",
       "  },\n",
       "}"
      ]
     },
     "execution_count": 4,
     "metadata": {},
     "output_type": "execute_result"
    }
   ],
   "source": [
    "# Get the benchmark results for the first iteration\n",
    "benchmark_results.get_first_iteration()"
   ]
  },
  {
   "cell_type": "code",
   "execution_count": 5,
   "metadata": {
    "scrolled": false
   },
   "outputs": [
    {
     "data": {
      "text/plain": [
       "{\n",
       "  'cpu': {\n",
       "    'system_time': 2.5840000000000005,\n",
       "    'total_time': 47.080999999999996,\n",
       "    'user_time': 44.497,\n",
       "  },\n",
       "  'disk': {\n",
       "    'read_bytes': 0.0,\n",
       "    'read_chars': 1425417.6,\n",
       "    'total_bytes': 1310720.0,\n",
       "    'total_chars': 2737042.2,\n",
       "    'write_bytes': 1310720.0,\n",
       "    'write_chars': 1311624.6,\n",
       "  },\n",
       "  'memory': {\n",
       "    'max': 7133421158.4,\n",
       "    'max_perprocess': 789089484.8,\n",
       "  },\n",
       "  'process': {\n",
       "    'execution_time': 9.413,\n",
       "    'stderr_data': None,\n",
       "    'stdout_data': None,\n",
       "  },\n",
       "  'time_series': {\n",
       "    'cpu_percentages': array([ 31.36875   , 100.39090909,  72.87142857, ..., 158.4       ,\n",
       "         0.        ,   0.        ])\n",
       "    'memory_bytes': array([1.95676160e+07, 2.04274967e+07, 2.09238309e+07, ...,\n",
       "       1.39403264e+08, 6.91732480e+07, 6.71416320e+07])\n",
       "    'sample_milliseconds': array([2.87500000e+00, 1.17272727e+01, 2.01428571e+01, ...,\n",
       "       1.04590000e+04, 1.04650000e+04, 1.04730000e+04])\n",
       "  },\n",
       "}"
      ]
     },
     "execution_count": 5,
     "metadata": {},
     "output_type": "execute_result"
    }
   ],
   "source": [
    "# Get the benchmark results for the average of all kinds of resources, including time series data\n",
    "benchmark_results.get_averages()"
   ]
  },
  {
   "cell_type": "code",
   "execution_count": 6,
   "metadata": {
    "scrolled": false
   },
   "outputs": [
    {
     "data": {
      "text/plain": [
       "{\n",
       "  'cpu': {\n",
       "    'system_time': (mean: 2.5840000000000005, stdev: 0.20800000000000002, min: 2.31, max: 2.92)\n",
       "    'total_time': (mean: 47.080999999999996, stdev: 3.451308302658573, min: 42.94, max: 51.96)\n",
       "    'user_time': (mean: 44.497, stdev: 3.2577723984342426, min: 40.48, max: 49.08)\n",
       "  },\n",
       "  'disk': {\n",
       "    'read_bytes': (mean: 0.0, stdev: 0.0, min: 0, max: 0)\n",
       "    'read_chars': (mean: 1425417.6, stdev: 15.094369811290566, min: 1425400, max: 1425448)\n",
       "    'total_bytes': (mean: 1310720.0, stdev: 0.0, min: 1310720, max: 1310720)\n",
       "    'total_chars': (mean: 2737042.2, stdev: 30.18873962258113, min: 2737007, max: 2737103)\n",
       "    'write_bytes': (mean: 1310720.0, stdev: 0.0, min: 1310720, max: 1310720)\n",
       "    'write_chars': (mean: 1311624.6, stdev: 15.094369811290566, min: 1311607, max: 1311655)\n",
       "  },\n",
       "  'memory': {\n",
       "    'max': (mean: 7133421158.4, stdev: 18784942.05853999, min: 7081500672, max: 7147241472)\n",
       "    'max_perprocess': (mean: 789089484.8, stdev: 903791.1015216735, min: 788209664, max: 791203840)\n",
       "  },\n",
       "  'process': {\n",
       "    'execution_time': (mean: 9.413, stdev: 0.7779768634091887, min: 8.561, max: 10.482)\n",
       "    'stderr_data': None,\n",
       "    'stdout_data': None,\n",
       "  },\n",
       "  'time_series': {\n",
       "    'cpu_percentages': (mean: 376.63622120596204, stdev: 431.75389441046167, min: 0.0, max: 1719.8999999999999)\n",
       "    'memory_bytes': (mean: 1981433490.3848238, stdev: 2308016495.689214, min: 19230720, max: 7147241472)\n",
       "    'sample_milliseconds': (mean: 4271.035907859078, stdev: 2876.95556127587, min: 0, max: 10473)\n",
       "  },\n",
       "}"
      ]
     },
     "execution_count": 6,
     "metadata": {},
     "output_type": "execute_result"
    }
   ],
   "source": [
    "# Get statistics for all of the resources over iterations\n",
    "benchmark_results.get_statistics()"
   ]
  },
  {
   "cell_type": "code",
   "execution_count": 7,
   "metadata": {},
   "outputs": [],
   "source": [
    "# Get the plot for resources (Ram + CPU)\n",
    "fig = benchmark_results.get_resources_plot(width = 15, height = 3)"
   ]
  },
  {
   "cell_type": "code",
   "execution_count": 8,
   "metadata": {},
   "outputs": [],
   "source": [
    "# Delete figure file if it already exists and save the new one\n",
    "figure_image_save_path = \"resources/benchmark.png\"\n",
    "if os.path.exists(figure_image_save_path):\n",
    "    os.remove(figure_image_save_path)\n",
    "fig.savefig(figure_image_save_path)"
   ]
  },
  {
   "cell_type": "code",
   "execution_count": 9,
   "metadata": {},
   "outputs": [
    {
     "data": {
      "image/png": "[encoded data removed]",
      "text/plain": [
       "<Figure size 1080x216 with 2 Axes>"
      ]
     },
     "metadata": {},
     "output_type": "display_data"
    }
   ],
   "source": [
    "%matplotlib inline\n",
    "# Show the plot in ipython\n",
    "display(fig)"
   ]
  },
  {
   "cell_type": "markdown",
   "metadata": {},
   "source": [
    "Cpu usage of 1500% means 1500 / 100 = 15 cores are being fully utilized"
   ]
  },
  {
   "cell_type": "code",
   "execution_count": 10,
   "metadata": {},
   "outputs": [
    {
     "name": "stdout",
     "output_type": "stream",
     "text": [
      "Average runtime: 9.413 seconds\n"
     ]
    }
   ],
   "source": [
    "print(\"Average runtime: %s seconds\" % benchmark_results.get_averages().process.execution_time)"
   ]
  },
  {
   "cell_type": "code",
   "execution_count": 11,
   "metadata": {},
   "outputs": [
    {
     "data": {
      "text/plain": [
       "{\n",
       "  'cpu': {\n",
       "    'system_time': [2.35, 2.4600000000000004, 2.47, 2.45, 2.31, 2.52, 2.7, 2.8800000000000003, 2.7800000000000002, 2.92],\n",
       "    'total_time': [43.13, 42.94, 44.22, 45.63, 43.900000000000006, 46.59, 51.040000000000006, 51.96, 50.57, 50.83],\n",
       "    'user_time': [40.78, 40.48, 41.75, 43.18, 41.59, 44.07, 48.34, 49.08, 47.79, 47.91],\n",
       "  },\n",
       "  'disk': {\n",
       "    'read_bytes': [0, 0, 0, 0, 0, 0, 0, 0, 0, 0],\n",
       "    'read_chars': [1425432, 1425400, 1425416, 1425448, 1425432, 1425416, 1425416, 1425400, 1425416, 1425400],\n",
       "    'total_bytes': [1310720, 1310720, 1310720, 1310720, 1310720, 1310720, 1310720, 1310720, 1310720, 1310720],\n",
       "    'total_chars': [2737071, 2737007, 2737039, 2737103, 2737071, 2737039, 2737039, 2737007, 2737039, 2737007],\n",
       "    'write_bytes': [1310720, 1310720, 1310720, 1310720, 1310720, 1310720, 1310720, 1310720, 1310720, 1310720],\n",
       "    'write_chars': [1311639, 1311607, 1311623, 1311655, 1311639, 1311623, 1311623, 1311607, 1311623, 1311607],\n",
       "  },\n",
       "  'memory': {\n",
       "    'max': [7081500672, 7120003072, 7139446784, 7140229120, 7137411072, 7141613568, 7147241472, 7135932416, 7146459136, 7144374272],\n",
       "    'max_perprocess': [788422656, 788533248, 789659648, 788283392, 788975616, 788209664, 791203840, 788332544, 789569536, 789704704],\n",
       "  },\n",
       "  'process': {\n",
       "    'execution_time': [8.646, 8.561, 8.788, 8.93, 8.619, 9.239, 10.305, 10.482, 10.203, 10.357],\n",
       "    'stderr_data': ['', '', '', '', '', '', '', '', '', ''],\n",
       "    'stdout_data': [\n",
       "      'Running master process\\n\\nRunning child process\n",
       "                      #3\\n\\nRunning child process #1\\n\\nRunning child process\n",
       "                      ...(4 hidden lines)',\n",
       "      'Running master process\\n\\nRunning child process\n",
       "                      #5\\n\\nRunning child process #9\\n\\nRunning child process\n",
       "                      ...(4 hidden lines)',\n",
       "      'Running master process\\n\\nRunning child process\n",
       "                      #2\\n\\nRunning child process #5\\n\\nRunning child process\n",
       "                      ...(4 hidden lines)',\n",
       "      'Running master process\\n\\nRunning child process\n",
       "                      #2\\n\\nRunning child process #5\\n\\nRunning child process\n",
       "                      ...(4 hidden lines)',\n",
       "      'Running master process\\n\\nRunning child process\n",
       "                      #6\\n\\nRunning child process #2\\n\\nRunning child process\n",
       "                      ...(4 hidden lines)',\n",
       "      'Running master process\\n\\nRunning child process\n",
       "                      #1\\n\\nRunning child process #6\\n\\nRunning child process\n",
       "                      ...(4 hidden lines)',\n",
       "      'Running master process\\n\\nRunning child process\n",
       "                      #2\\n\\nRunning child process #6\\n\\nRunning child process\n",
       "                      ...(4 hidden lines)',\n",
       "      'Running master process\\n\\nRunning child process\n",
       "                      #2\\n\\nRunning child process #1\\n\\nRunning child process\n",
       "                      ...(4 hidden lines)',\n",
       "      'Running master process\\n\\nRunning child process\n",
       "                      #1\\n\\nRunning child process #6\\n\\nRunning child process\n",
       "                      ...(4 hidden lines)',\n",
       "      'Running master process\\n\\nRunning child process\n",
       "                      #7\\n\\nRunning child process #3\\n\\nRunning child process\n",
       "                      ...(4 hidden lines)',\n",
       "    ],\n",
       "  },\n",
       "  'time_series': {\n",
       "    'cpu_percentages': [array([  0. , 138.5, 170.2, ..., 181.9,   0. ,   0. ]), array([  0. , 168.9,   0. , ..., 193.4,   0. ,   0. ]), array([  0. , 165.5, 139.5, ..., 190.2,   0. ,   0. ]), array([  0. ,   0. ,   0. , ...,   0. , 192.3,   0. ]), array([  0. ,   0. , 183.4, ..., 191.4,   0. ,   0. ]), array([  0. , 167.5,   0. , ...,   0. , 162.2,   0. ]), array([  0. ,   0. , 161.5, ..., 275.4,   0. ,   0. ]), array([  0. ,  97.8,  98.5, ..., 158.4,   0. ,   0. ]), array([  0. , 125.4,   0. , ..., 153.9,   0. ,   0. ]), array([  0. ,  88. , 180.8, ..., 268. ,   0. ,   0. ])],\n",
       "    'memory_bytes': [\n",
       "      array([ 19464192,  19816448,  21049344, ..., 138555392,  69103616,\n",
       "        29683712]),\n",
       "      array([ 19435520,  19673088,  20803584, ..., 138731520,  68694016,\n",
       "        65548288]),\n",
       "      array([ 19320832,  19562496,  20054016, ..., 138039296,  68870144,\n",
       "        68870144]),\n",
       "      array([ 19435520,  19767296,  21073920, ..., 139436032,  97337344,\n",
       "        68583424]),\n",
       "      array([ 19320832,  19591168,  21159936, ..., 139681792,  69713920,\n",
       "        56147968]),\n",
       "      array([ 19427328,  19742720,  21262336, ..., 140222464,  69074944,\n",
       "        69074944]),\n",
       "      array([ 19742720,  20561920,  20107264, ..., 207966208, 112553984,\n",
       "        68952064]),\n",
       "      array([ 19238912,  19701760,  20324352, ..., 139403264,  69173248,\n",
       "        67141632]),\n",
       "      array([ 19566592,  20197376,  21659648, ..., 139464704, 133500928,\n",
       "        69537792]),\n",
       "      array([ 19230720,  19476480,  21159936, ..., 208236544,  98123776,\n",
       "        69873664]),\n",
       "    ],\n",
       "    'sample_milliseconds': [array([   1,    8,   14, ..., 8626, 8631, 8638]), array([   0,    6,   12, ..., 8540, 8546, 8551]), array([   1,    7,   14, ..., 8769, 8775, 8780]), array([   0,    6,   12, ..., 8911, 8916, 8922]), array([   1,    7,   12, ..., 8601, 8606, 8612]), array([   0,    6,   12, ..., 9219, 9225, 9231]), array([    1,     7,    13, ..., 10280, 10287, 10295]), array([    1,    11,    22, ..., 10459, 10465, 10473]), array([    1,     9,    16, ..., 10181, 10187, 10194]), array([    1,    12,    23, ..., 10323, 10334, 10345])],\n",
       "  },\n",
       "}"
      ]
     },
     "execution_count": 11,
     "metadata": {},
     "output_type": "execute_result"
    }
   ],
   "source": [
    "# Get lists for accurate values of different kinds of resources over iterations\n",
    "benchmark_results.get_values_per_attribute()"
   ]
  }
 ],
 "metadata": {
  "kernelspec": {
   "display_name": "Python 3",
   "language": "python",
   "name": "python3"
  },
  "language_info": {
   "codemirror_mode": {
    "name": "ipython",
    "version": 3
   },
   "file_extension": ".py",
   "mimetype": "text/x-python",
   "name": "python",
   "nbconvert_exporter": "python",
   "pygments_lexer": "ipython3",
   "version": "3.8.2"
  }
 },
 "nbformat": 4,
 "nbformat_minor": 4
}