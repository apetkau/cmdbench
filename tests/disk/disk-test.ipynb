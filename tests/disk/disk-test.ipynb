{
 "cells": [
  {
   "cell_type": "code",
   "execution_count": 1,
   "metadata": {},
   "outputs": [],
   "source": [
    "import sys\n",
    "sys.path.append(\"../..\")"
   ]
  },
  {
   "cell_type": "code",
   "execution_count": 2,
   "metadata": {},
   "outputs": [],
   "source": [
    "import cmdbench"
   ]
  },
  {
   "cell_type": "code",
   "execution_count": 3,
   "metadata": {
    "scrolled": true
   },
   "outputs": [],
   "source": [
    "stress_benchmark_write = cmdbench.benchmark_command(\"node write_test.js\", 5, debugging = True)"
   ]
  },
  {
   "cell_type": "code",
   "execution_count": 4,
   "metadata": {},
   "outputs": [
    {
     "name": "stdout",
     "output_type": "stream",
     "text": [
      "GNU Time for writing: {\n",
      "  'file_system_inputs': (mean: 0.0, stdev: 0.0, min: 0, max: 0)\n",
      "  'file_system_outputs': (mean: 13107200.0, stdev: 0.0, min: 13107200, max: 13107200)\n",
      "}\n",
      "\n",
      "psutil for writing: {\n",
      "  'io_counters': {\n",
      "    'read_bytes': (mean: 0.0, stdev: 0.0, min: 0, max: 0)\n",
      "    'read_chars': (mean: 8167.0, stdev: 0.0, min: 8167, max: 8167)\n",
      "    'read_count': (mean: 17.0, stdev: 0.0, min: 17, max: 17)\n",
      "    'write_bytes': (mean: 13107200.0, stdev: 0.0, min: 13107200, max: 13107200)\n",
      "    'write_chars': (mean: 13107220.0, stdev: 0.0, min: 13107220, max: 13107220)\n",
      "    'write_count': (mean: 104.0, stdev: 0.0, min: 104, max: 104)\n",
      "  },\n",
      "}\n",
      "\n"
     ]
    }
   ],
   "source": [
    "first_iteration_write = stress_benchmark_write.get_statistics()\n",
    "print(\"GNU Time for writing: %s\" % first_iteration_write.gnu_time.disk)\n",
    "print(\"psutil for writing: %s\" % first_iteration_write.psutil.disk)"
   ]
  },
  {
   "cell_type": "code",
   "execution_count": 5,
   "metadata": {
    "scrolled": true
   },
   "outputs": [],
   "source": [
    "stress_benchmark_read = cmdbench.benchmark_command(\"python read_binary_test.py\", 5, debugging = True)\n",
    "# print(stress_benchmark_read.get_single_iteration().general.stdout_data)"
   ]
  },
  {
   "cell_type": "code",
   "execution_count": 6,
   "metadata": {},
   "outputs": [
    {
     "name": "stdout",
     "output_type": "stream",
     "text": [
      "GNU Time for reading: {\n",
      "  'file_system_inputs': (mean: 0.0, stdev: 0.0, min: 0, max: 0)\n",
      "  'file_system_outputs': (mean: 0.0, stdev: 0.0, min: 0, max: 0)\n",
      "}\n",
      "\n",
      "psutil for reading: {\n",
      "  'io_counters': {\n",
      "    'read_bytes': (mean: 0.0, stdev: 0.0, min: 0, max: 0)\n",
      "    'read_chars': (mean: 13318271.0, stdev: 0.0, min: 13318271, max: 13318271)\n",
      "    'read_count': (mean: 261.0, stdev: 0.0, min: 261, max: 261)\n",
      "    'write_bytes': (mean: 0.0, stdev: 0.0, min: 0, max: 0)\n",
      "    'write_chars': (mean: 290.0, stdev: 0.0, min: 290, max: 290)\n",
      "    'write_count': (mean: 1.0, stdev: 0.0, min: 1, max: 1)\n",
      "  },\n",
      "}\n",
      "\n"
     ]
    }
   ],
   "source": [
    "first_iteration_read = stress_benchmark_read.get_statistics()\n",
    "print(\"GNU Time for reading: %s\" % first_iteration_read.gnu_time.disk)\n",
    "print(\"psutil for reading: %s\" % first_iteration_read.psutil.disk)"
   ]
  },
  {
   "cell_type": "code",
   "execution_count": 7,
   "metadata": {},
   "outputs": [],
   "source": [
    "!g++ -std=c++17 read_binary_test.cpp -o read_binary_test"
   ]
  },
  {
   "cell_type": "code",
   "execution_count": 8,
   "metadata": {},
   "outputs": [
    {
     "name": "stdout",
     "output_type": "stream",
     "text": [
      "Total file bytes: 13107300\n",
      "\n"
     ]
    }
   ],
   "source": [
    "stress_benchmark_read = cmdbench.benchmark_command(\"./read_binary_test\", 5, debugging = True)\n",
    "print(stress_benchmark_read.get_single_iteration().general.stdout_data)"
   ]
  },
  {
   "cell_type": "code",
   "execution_count": 9,
   "metadata": {},
   "outputs": [
    {
     "name": "stdout",
     "output_type": "stream",
     "text": [
      "GNU Time for reading: {\n",
      "  'file_system_inputs': (mean: 0.0, stdev: 0.0, min: 0, max: 0)\n",
      "  'file_system_outputs': (mean: 0.0, stdev: 0.0, min: 0, max: 0)\n",
      "}\n",
      "\n",
      "psutil for reading: {\n",
      "  'io_counters': {\n",
      "    'read_bytes': (mean: 0.0, stdev: 0.0, min: 0, max: 0)\n",
      "    'read_chars': (mean: 13111644.0, stdev: 0.0, min: 13111644, max: 13111644)\n",
      "    'read_count': (mean: 1809.0, stdev: 0.0, min: 1809, max: 1809)\n",
      "    'write_bytes': (mean: 0.0, stdev: 0.0, min: 0, max: 0)\n",
      "    'write_chars': (mean: 27.0, stdev: 0.0, min: 27, max: 27)\n",
      "    'write_count': (mean: 1.0, stdev: 0.0, min: 1, max: 1)\n",
      "  },\n",
      "}\n",
      "\n"
     ]
    }
   ],
   "source": [
    "first_iteration_read = stress_benchmark_read.get_statistics()\n",
    "print(\"GNU Time for reading: %s\" % first_iteration_read.gnu_time.disk)\n",
    "print(\"psutil for reading: %s\" % first_iteration_read.psutil.disk)"
   ]
  },
  {
   "cell_type": "code",
   "execution_count": 10,
   "metadata": {},
   "outputs": [
    {
     "data": {
      "text/plain": [
       "5.927272727272727"
      ]
     },
     "execution_count": 10,
     "metadata": {},
     "output_type": "execute_result"
    }
   ],
   "source": [
    "# ms/sample\n",
    "((stress_benchmark_read.get_statistics().psutil.process.execution_time.mean)*1000)/len(stress_benchmark_read.get_single_iteration().time_series.sample_milliseconds)"
   ]
  },
  {
   "cell_type": "code",
   "execution_count": null,
   "metadata": {},
   "outputs": [],
   "source": []
  }
 ],
 "metadata": {
  "kernelspec": {
   "display_name": "tf-gpu",
   "language": "python",
   "name": "tf-gpu"
  },
  "language_info": {
   "codemirror_mode": {
    "name": "ipython",
    "version": 3
   },
   "file_extension": ".py",
   "mimetype": "text/x-python",
   "name": "python",
   "nbconvert_exporter": "python",
   "pygments_lexer": "ipython3",
   "version": "3.6.10"
  }
 },
 "nbformat": 4,
 "nbformat_minor": 4
}
