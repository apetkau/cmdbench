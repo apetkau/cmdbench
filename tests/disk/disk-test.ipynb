{
 "cells": [
  {
   "cell_type": "code",
   "execution_count": 1,
   "metadata": {},
   "outputs": [],
   "source": [
    "import sys\n",
    "sys.path.append(\"../..\")"
   ]
  },
  {
   "cell_type": "code",
   "execution_count": 2,
   "metadata": {},
   "outputs": [],
   "source": [
    "import cmdbench"
   ]
  },
  {
   "cell_type": "code",
   "execution_count": 3,
   "metadata": {
    "scrolled": true
   },
   "outputs": [],
   "source": [
    "stress_benchmark_write = cmdbench.benchmark_command(\"node write_test.js\", 5, debugging = True)"
   ]
  },
  {
   "cell_type": "code",
   "execution_count": 4,
   "metadata": {},
   "outputs": [
    {
     "name": "stdout",
     "output_type": "stream",
     "text": [
      "GNU Time for writing: {\n",
      "  'file_system_inputs': (mean: 0.0, stdev: 0.0, min: 0, max: 0)\n",
      "  'file_system_outputs': (mean: 13107200.0, stdev: 0.0, min: 13107200, max: 13107200)\n",
      "}\n",
      "\n",
      "psutil for writing: {\n",
      "  'io_counters': {\n",
      "    'read_bytes': (mean: 0.0, stdev: 0.0, min: 0, max: 0)\n",
      "    'read_chars': (mean: 8167.0, stdev: 0.0, min: 8167, max: 8167)\n",
      "    'read_count': (mean: 17.0, stdev: 0.0, min: 17, max: 17)\n",
      "    'write_bytes': (mean: 13107200.0, stdev: 0.0, min: 13107200, max: 13107200)\n",
      "    'write_chars': (mean: 13107220.0, stdev: 0.0, min: 13107220, max: 13107220)\n",
      "    'write_count': (mean: 104.0, stdev: 0.0, min: 104, max: 104)\n",
      "  },\n",
      "}\n",
      "\n"
     ]
    }
   ],
   "source": [
    "first_iteration_write = stress_benchmark_write.get_statistics()\n",
    "print(\"GNU Time for writing: %s\" % first_iteration_write.gnu_time.disk)\n",
    "print(\"psutil for writing: %s\" % first_iteration_write.psutil.disk)"
   ]
  },
  {
   "cell_type": "code",
   "execution_count": 5,
   "metadata": {
    "scrolled": true
   },
   "outputs": [
    {
     "name": "stderr",
     "output_type": "stream",
     "text": [
      "Process Process-20:\n",
      "Traceback (most recent call last):\n",
      "  File \"/home/manzik/anaconda2/envs/tf-gpu/lib/python3.6/site-packages/psutil/_common.py\", line 449, in wrapper\n",
      "    ret = self._cache[fun]\n",
      "AttributeError: _cache\n",
      "\n",
      "During handling of the above exception, another exception occurred:\n",
      "\n",
      "Traceback (most recent call last):\n",
      "  File \"/home/manzik/anaconda2/envs/tf-gpu/lib/python3.6/site-packages/psutil/_pslinux.py\", line 1516, in wrapper\n",
      "    return fun(self, *args, **kwargs)\n",
      "  File \"/home/manzik/anaconda2/envs/tf-gpu/lib/python3.6/site-packages/psutil/_common.py\", line 452, in wrapper\n",
      "    return fun(self)\n",
      "  File \"/home/manzik/anaconda2/envs/tf-gpu/lib/python3.6/site-packages/psutil/_pslinux.py\", line 1558, in _parse_stat_file\n",
      "    with open_binary(\"%s/%s/stat\" % (self._procfs_path, self.pid)) as f:\n",
      "  File \"/home/manzik/anaconda2/envs/tf-gpu/lib/python3.6/site-packages/psutil/_common.py\", line 713, in open_binary\n",
      "    return open(fname, \"rb\", **kwargs)\n",
      "FileNotFoundError: [Errno 2] No such file or directory: '/proc/13083/stat'\n",
      "\n",
      "During handling of the above exception, another exception occurred:\n",
      "\n",
      "Traceback (most recent call last):\n",
      "  File \"/home/manzik/anaconda2/envs/tf-gpu/lib/python3.6/site-packages/psutil/__init__.py\", line 373, in _init\n",
      "    self.create_time()\n",
      "  File \"/home/manzik/anaconda2/envs/tf-gpu/lib/python3.6/site-packages/psutil/__init__.py\", line 723, in create_time\n",
      "    self._create_time = self._proc.create_time()\n",
      "  File \"/home/manzik/anaconda2/envs/tf-gpu/lib/python3.6/site-packages/psutil/_pslinux.py\", line 1516, in wrapper\n",
      "    return fun(self, *args, **kwargs)\n",
      "  File \"/home/manzik/anaconda2/envs/tf-gpu/lib/python3.6/site-packages/psutil/_pslinux.py\", line 1728, in create_time\n",
      "    ctime = float(self._parse_stat_file()['create_time'])\n",
      "  File \"/home/manzik/anaconda2/envs/tf-gpu/lib/python3.6/site-packages/psutil/_pslinux.py\", line 1523, in wrapper\n",
      "    raise NoSuchProcess(self.pid, self._name)\n",
      "psutil.NoSuchProcess: psutil.NoSuchProcess process no longer exists (pid=13083)\n",
      "\n",
      "During handling of the above exception, another exception occurred:\n",
      "\n",
      "Traceback (most recent call last):\n",
      "  File \"/home/manzik/anaconda2/envs/tf-gpu/lib/python3.6/multiprocessing/process.py\", line 258, in _bootstrap\n",
      "    self.run()\n",
      "  File \"/home/manzik/anaconda2/envs/tf-gpu/lib/python3.6/multiprocessing/process.py\", line 93, in run\n",
      "    self._target(*self._args, **self._kwargs)\n",
      "  File \"../../cmdbench/core.py\", line 86, in calculate_time_series\n",
      "    p = psutil.Process(time_series_dict[\"target_process_pid\"])\n",
      "  File \"/home/manzik/anaconda2/envs/tf-gpu/lib/python3.6/site-packages/psutil/__init__.py\", line 346, in __init__\n",
      "    self._init(pid)\n",
      "  File \"/home/manzik/anaconda2/envs/tf-gpu/lib/python3.6/site-packages/psutil/__init__.py\", line 386, in _init\n",
      "    raise NoSuchProcess(pid, None, msg)\n",
      "psutil.NoSuchProcess: psutil.NoSuchProcess no process found with pid 13083\n"
     ]
    },
    {
     "ename": "AttributeError",
     "evalue": "'dict' object has no attribute 'user'",
     "output_type": "error",
     "traceback": [
      "\u001b[0;31m---------------------------------------------------------------------------\u001b[0m",
      "\u001b[0;31mAttributeError\u001b[0m                            Traceback (most recent call last)",
      "\u001b[0;32m<ipython-input-5-bfdeaf0c471f>\u001b[0m in \u001b[0;36m<module>\u001b[0;34m\u001b[0m\n\u001b[0;32m----> 1\u001b[0;31m \u001b[0mstress_benchmark_read\u001b[0m \u001b[0;34m=\u001b[0m \u001b[0mcmdbench\u001b[0m\u001b[0;34m.\u001b[0m\u001b[0mbenchmark_command\u001b[0m\u001b[0;34m(\u001b[0m\u001b[0;34m\"python read_binary_test.py\"\u001b[0m\u001b[0;34m,\u001b[0m \u001b[0;36m5\u001b[0m\u001b[0;34m,\u001b[0m \u001b[0mdebugging\u001b[0m \u001b[0;34m=\u001b[0m \u001b[0;32mTrue\u001b[0m\u001b[0;34m)\u001b[0m\u001b[0;34m\u001b[0m\u001b[0;34m\u001b[0m\u001b[0m\n\u001b[0m\u001b[1;32m      2\u001b[0m \u001b[0;31m# print(stress_benchmark_read.get_single_iteration().general.stdout_data)\u001b[0m\u001b[0;34m\u001b[0m\u001b[0;34m\u001b[0m\u001b[0;34m\u001b[0m\u001b[0m\n",
      "\u001b[0;32m~/cmdbench/repo/cmdbench/core.py\u001b[0m in \u001b[0;36mbenchmark_command\u001b[0;34m(command, iterations_num, debugging)\u001b[0m\n\u001b[1;32m     20\u001b[0m     \u001b[0mraw_benchmark_results\u001b[0m \u001b[0;34m=\u001b[0m \u001b[0;34m[\u001b[0m\u001b[0;34m]\u001b[0m\u001b[0;34m\u001b[0m\u001b[0;34m\u001b[0m\u001b[0m\n\u001b[1;32m     21\u001b[0m     \u001b[0;32mfor\u001b[0m \u001b[0m_\u001b[0m \u001b[0;32min\u001b[0m \u001b[0mrange\u001b[0m\u001b[0;34m(\u001b[0m\u001b[0miterations_num\u001b[0m\u001b[0;34m)\u001b[0m\u001b[0;34m:\u001b[0m\u001b[0;34m\u001b[0m\u001b[0;34m\u001b[0m\u001b[0m\n\u001b[0;32m---> 22\u001b[0;31m         \u001b[0mraw_benchmark_result\u001b[0m \u001b[0;34m=\u001b[0m \u001b[0msingle_benchmark_command_raw\u001b[0m\u001b[0;34m(\u001b[0m\u001b[0mcommand\u001b[0m\u001b[0;34m,\u001b[0m \u001b[0mdebugging\u001b[0m\u001b[0;34m)\u001b[0m\u001b[0;34m\u001b[0m\u001b[0;34m\u001b[0m\u001b[0m\n\u001b[0m\u001b[1;32m     23\u001b[0m         \u001b[0mraw_benchmark_results\u001b[0m\u001b[0;34m.\u001b[0m\u001b[0mappend\u001b[0m\u001b[0;34m(\u001b[0m\u001b[0mraw_benchmark_result\u001b[0m\u001b[0;34m)\u001b[0m\u001b[0;34m\u001b[0m\u001b[0;34m\u001b[0m\u001b[0m\n\u001b[1;32m     24\u001b[0m \u001b[0;34m\u001b[0m\u001b[0m\n",
      "\u001b[0;32m~/cmdbench/repo/cmdbench/core.py\u001b[0m in \u001b[0;36msingle_benchmark_command_raw\u001b[0;34m(command, debugging)\u001b[0m\n\u001b[1;32m    270\u001b[0m \u001b[0;34m\u001b[0m\u001b[0m\n\u001b[1;32m    271\u001b[0m     \u001b[0;31m# https://psutil.readthedocs.io/en/latest/#psutil.Process.cpu_times\u001b[0m\u001b[0;34m\u001b[0m\u001b[0;34m\u001b[0m\u001b[0;34m\u001b[0m\u001b[0m\n\u001b[0;32m--> 272\u001b[0;31m     \u001b[0mcpu_user_time\u001b[0m \u001b[0;34m=\u001b[0m \u001b[0mcpu_times\u001b[0m\u001b[0;34m.\u001b[0m\u001b[0muser\u001b[0m\u001b[0;34m\u001b[0m\u001b[0;34m\u001b[0m\u001b[0m\n\u001b[0m\u001b[1;32m    273\u001b[0m     \u001b[0mcpu_system_time\u001b[0m \u001b[0;34m=\u001b[0m \u001b[0mcpu_times\u001b[0m\u001b[0;34m.\u001b[0m\u001b[0msystem\u001b[0m\u001b[0;34m\u001b[0m\u001b[0;34m\u001b[0m\u001b[0m\n\u001b[1;32m    274\u001b[0m     \u001b[0mcpu_total_time\u001b[0m \u001b[0;34m=\u001b[0m \u001b[0mcpu_user_time\u001b[0m \u001b[0;34m+\u001b[0m \u001b[0mcpu_system_time\u001b[0m \u001b[0;34m+\u001b[0m \u001b[0mcpu_times\u001b[0m\u001b[0;34m.\u001b[0m\u001b[0mchildren_user\u001b[0m \u001b[0;34m+\u001b[0m \u001b[0mcpu_times\u001b[0m\u001b[0;34m.\u001b[0m\u001b[0mchildren_system\u001b[0m\u001b[0;34m\u001b[0m\u001b[0;34m\u001b[0m\u001b[0m\n",
      "\u001b[0;31mAttributeError\u001b[0m: 'dict' object has no attribute 'user'"
     ]
    }
   ],
   "source": [
    "stress_benchmark_read = cmdbench.benchmark_command(\"python read_binary_test.py\", 5, debugging = True)\n",
    "# print(stress_benchmark_read.get_single_iteration().general.stdout_data)"
   ]
  },
  {
   "cell_type": "code",
   "execution_count": null,
   "metadata": {},
   "outputs": [],
   "source": [
    "first_iteration_read = stress_benchmark_read.get_statistics()\n",
    "print(\"GNU Time for reading: %s\" % first_iteration_read.gnu_time.disk)\n",
    "print(\"psutil for reading: %s\" % first_iteration_read.psutil.disk)"
   ]
  },
  {
   "cell_type": "code",
   "execution_count": 7,
   "metadata": {},
   "outputs": [],
   "source": [
    "!g++ -std=c++17 read_binary_test.cpp -o read_binary_test"
   ]
  },
  {
   "cell_type": "code",
   "execution_count": 8,
   "metadata": {},
   "outputs": [
    {
     "name": "stdout",
     "output_type": "stream",
     "text": [
      "8967\n",
      "2\n",
      "pcputimes(user=0.18, system=0.0, children_user=0.0, children_system=0.0, iowait=0.0)\n",
      "8981\n",
      "2\n",
      "pcputimes(user=0.2, system=0.0, children_user=0.0, children_system=0.0, iowait=0.0)\n",
      "8995\n",
      "2\n",
      "pcputimes(user=0.17, system=0.0, children_user=0.0, children_system=0.0, iowait=0.0)\n",
      "9010\n",
      "2\n",
      "pcputimes(user=0.17, system=0.0, children_user=0.0, children_system=0.0, iowait=0.0)\n",
      "9024\n",
      "2\n",
      "pcputimes(user=0.19, system=0.0, children_user=0.0, children_system=0.0, iowait=0.0)\n",
      "Total file bytes: 13107300\n",
      "\n"
     ]
    }
   ],
   "source": [
    "stress_benchmark_read = cmdbench.benchmark_command(\"./read_binary_test\", 5, debugging = True)\n",
    "print(stress_benchmark_read.get_single_iteration().general.stdout_data)"
   ]
  },
  {
   "cell_type": "code",
   "execution_count": 16,
   "metadata": {},
   "outputs": [
    {
     "name": "stdout",
     "output_type": "stream",
     "text": [
      "GNU Time for reading: {\n",
      "  'file_system_inputs': (mean: 0.0, stdev: 0.0, min: 0, max: 0)\n",
      "  'file_system_outputs': (mean: 0.0, stdev: 0.0, min: 0, max: 0)\n",
      "}\n",
      "\n",
      "psutil for reading: {\n",
      "  'io_counters': {\n",
      "    'read_bytes': (mean: 0.0, stdev: 0.0, min: 0, max: 0)\n",
      "    'read_chars': (mean: 13111644.0, stdev: 0.0, min: 13111644, max: 13111644)\n",
      "    'read_count': (mean: 1809.0, stdev: 0.0, min: 1809, max: 1809)\n",
      "    'write_bytes': (mean: 0.0, stdev: 0.0, min: 0, max: 0)\n",
      "    'write_chars': (mean: 27.0, stdev: 0.0, min: 27, max: 27)\n",
      "    'write_count': (mean: 1.0, stdev: 0.0, min: 1, max: 1)\n",
      "  },\n",
      "}\n",
      "\n"
     ]
    }
   ],
   "source": [
    "first_iteration_read = stress_benchmark_read.get_statistics()\n",
    "print(\"GNU Time for reading: %s\" % first_iteration_read.gnu_time.disk)\n",
    "print(\"psutil for reading: %s\" % first_iteration_read.psutil.disk)"
   ]
  },
  {
   "cell_type": "code",
   "execution_count": 18,
   "metadata": {},
   "outputs": [
    {
     "data": {
      "text/plain": [
       "6.940740740740741"
      ]
     },
     "execution_count": 18,
     "metadata": {},
     "output_type": "execute_result"
    }
   ],
   "source": [
    "# Samples/ms\n",
    "((stress_benchmark_read.get_statistics().psutil.process.execution_time.mean)*1000)/len(stress_benchmark_read.get_single_iteration().time_series.sample_milliseconds)"
   ]
  },
  {
   "cell_type": "code",
   "execution_count": null,
   "metadata": {},
   "outputs": [],
   "source": []
  }
 ],
 "metadata": {
  "kernelspec": {
   "display_name": "tf-gpu",
   "language": "python",
   "name": "tf-gpu"
  },
  "language_info": {
   "codemirror_mode": {
    "name": "ipython",
    "version": 3
   },
   "file_extension": ".py",
   "mimetype": "text/x-python",
   "name": "python",
   "nbconvert_exporter": "python",
   "pygments_lexer": "ipython3",
   "version": "3.6.10"
  }
 },
 "nbformat": 4,
 "nbformat_minor": 4
}
